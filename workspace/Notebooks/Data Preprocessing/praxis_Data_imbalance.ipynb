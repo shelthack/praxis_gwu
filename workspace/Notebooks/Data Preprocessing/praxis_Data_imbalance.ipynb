{
 "cells": [
  {
   "cell_type": "markdown",
   "metadata": {},
   "source": [
    "# Class Imbalance Mitigation for Enhanced IDS Dataset\n",
    "### Supporting Praxis: *Leveraging AutoML for Advanced Network Traffic Analysis and Intrusion Detection by Enhancing Security with a Multi-Feature IDS Dataset*\n",
    "\n",
    "**Author:** Chibuike Abana, Doctoral Candidate, George Washington University  \n",
    "**Date:** March 14, 2025  \n",
    "**Purpose:** This script addresses class imbalance within the CSE-CIC-IDS2018-derived dataset using a multi-phase resampling approach, including undersampling, SMOTE, and SMOTEENN. These techniques improve minority class representation to enhance IDS model performance and fairness.\n",
    "\n",
    "**License:** MIT License  \n",
    "Released under the MIT License. You are free to use, modify, and distribute this code with appropriate credit. Refer to the accompanying `LICENSE` file for full details."
   ]
  },
  {
   "cell_type": "markdown",
   "metadata": {},
   "source": [
    "## Importing libraries needed for the handling class imbalance"
   ]
  },
  {
   "cell_type": "code",
   "execution_count": 1,
   "metadata": {
    "tags": []
   },
   "outputs": [
    {
     "name": "stdout",
     "output_type": "stream",
     "text": [
      "Retrieving notices: done\n",
      "Channels:\n",
      " - conda-forge\n",
      " - nvidia\n",
      " - pytorch\n",
      "Platform: linux-64\n",
      "Collecting package metadata (repodata.json): done\n",
      "Solving environment: done\n",
      "\n",
      "\n",
      "==> WARNING: A newer version of conda exists. <==\n",
      "    current version: 24.11.3\n",
      "    latest version: 25.1.1\n",
      "\n",
      "Please update conda by running\n",
      "\n",
      "    $ conda update -n base -c conda-forge conda\n",
      "\n",
      "\n",
      "\n",
      "## Package Plan ##\n",
      "\n",
      "  environment location: /home/ec2-user/anaconda3/envs/python3\n",
      "\n",
      "  added / updated specs:\n",
      "    - imbalanced-learn\n",
      "\n",
      "\n",
      "The following packages will be downloaded:\n",
      "\n",
      "    package                    |            build\n",
      "    ---------------------------|-----------------\n",
      "    imbalanced-learn-0.13.0    |     pyhd8ed1ab_0         141 KB  conda-forge\n",
      "    sklearn-compat-0.1.3       |     pyhd8ed1ab_0          22 KB  conda-forge\n",
      "    ------------------------------------------------------------\n",
      "                                           Total:         163 KB\n",
      "\n",
      "The following NEW packages will be INSTALLED:\n",
      "\n",
      "  imbalanced-learn   conda-forge/noarch::imbalanced-learn-0.13.0-pyhd8ed1ab_0 \n",
      "  sklearn-compat     conda-forge/noarch::sklearn-compat-0.1.3-pyhd8ed1ab_0 \n",
      "\n",
      "\n",
      "\n",
      "Downloading and Extracting Packages:\n",
      "imbalanced-learn-0.1 | 141 KB    |                                       |   0% \n",
      "imbalanced-learn-0.1 | 141 KB    | ##################################### | 100% \u001b[A\n",
      "sklearn-compat-0.1.3 | 22 KB     | ##################################### | 100% \u001b[A\n",
      "sklearn-compat-0.1.3 | 22 KB     | ##################################### | 100% \u001b[A\n",
      "                                                                                \u001b[A\n",
      "                                                                                \u001b[A\n",
      "Preparing transaction: done\n",
      "Verifying transaction: done\n",
      "Executing transaction: done\n"
     ]
    }
   ],
   "source": [
    "# installing the imblearn\n",
    "!conda install -c conda-forge imbalanced-learn -y"
   ]
  },
  {
   "cell_type": "code",
   "execution_count": 2,
   "metadata": {
    "tags": []
   },
   "outputs": [],
   "source": [
    "# importing libraries\n",
    "import pandas as pd\n",
    "from imblearn.over_sampling import SMOTE\n",
    "from imblearn.under_sampling import RandomUnderSampler\n",
    "from imblearn.combine import SMOTEENN\n",
    "import seaborn as sns\n",
    "import matplotlib.pyplot as plt"
   ]
  },
  {
   "cell_type": "markdown",
   "metadata": {},
   "source": [
    "## Importing  training dataset"
   ]
  },
  {
   "cell_type": "code",
   "execution_count": null,
   "metadata": {
    "tags": []
   },
   "outputs": [
    {
     "name": "stderr",
     "output_type": "stream",
     "text": [
      "/home/ec2-user/anaconda3/envs/python3/lib/python3.10/site-packages/fsspec/registry.py:283: UserWarning: Your installed version of s3fs is very old and known to cause\n",
      "severe performance issues, see also https://github.com/dask/dask/issues/10276\n",
      "\n",
      "To fix, you should specify a lower version bound on s3fs, or\n",
      "update the current installation.\n",
      "\n",
      "  warnings.warn(s3_msg)\n"
     ]
    }
   ],
   "source": [
    "# USING only training dataset for mitigating imbalance 'training.csv'\n",
    "training_df = pd.read_csv(\"s3://final-praxis/Dataset/output-path/new-processed-data/training.csv\")"
   ]
  },
  {
   "cell_type": "code",
   "execution_count": 4,
   "metadata": {
    "tags": []
   },
   "outputs": [
    {
     "name": "stdout",
     "output_type": "stream",
     "text": [
      "Class distribution before Balancing\n",
      "Benign                      33349544\n",
      "DoS Hulk                     1442528\n",
      "DDoS-HOIC                     865834\n",
      "DDoS-LOIC-HTTP                231462\n",
      "Botnet Ares                   114337\n",
      "SSH-BruteForce                 75358\n",
      "DoS GoldenEye                  18048\n",
      "DoS Slowloris                   6792\n",
      "DDoS-LOIC-UDP                   2022\n",
      "Web Attack - Brute Force         105\n",
      "Web Attack - XSS                  90\n",
      "Name: Label, dtype: int64\n"
     ]
    }
   ],
   "source": [
    "print(\"Class distribution before Balancing\")\n",
    "print(training_df[\"Label\"].value_counts())"
   ]
  },
  {
   "cell_type": "code",
   "execution_count": 5,
   "metadata": {
    "tags": []
   },
   "outputs": [
    {
     "data": {
      "image/png": "[encoded data removed]",
      "text/plain": [
       "<Figure size 1500x1000 with 1 Axes>"
      ]
     },
     "metadata": {},
     "output_type": "display_data"
    }
   ],
   "source": [
    "# the 'Label' column contains attack types\n",
    "plt.figure(figsize=(15, 10))\n",
    "sns.countplot(y=training_df['Label'], order=training_df['Label'].value_counts().index)\n",
    "plt.title('Attack Distribution')\n",
    "plt.xlabel('Count')\n",
    "plt.ylabel('Attack Type')\n",
    "plt.show()"
   ]
  },
  {
   "cell_type": "code",
   "execution_count": 6,
   "metadata": {
    "tags": []
   },
   "outputs": [
    {
     "data": {
      "text/html": [
       "<div>\n",
       "<style scoped>\n",
       "    .dataframe tbody tr th:only-of-type {\n",
       "        vertical-align: middle;\n",
       "    }\n",
       "\n",
       "    .dataframe tbody tr th {\n",
       "        vertical-align: top;\n",
       "    }\n",
       "\n",
       "    .dataframe thead th {\n",
       "        text-align: right;\n",
       "    }\n",
       "</style>\n",
       "<table border=\"1\" class=\"dataframe\">\n",
       "  <thead>\n",
       "    <tr style=\"text-align: right;\">\n",
       "      <th></th>\n",
       "      <th>Protocol</th>\n",
       "      <th>Flow Duration</th>\n",
       "      <th>Total Fwd Packet</th>\n",
       "      <th>Total Bwd packets</th>\n",
       "      <th>Total Length of Fwd Packet</th>\n",
       "      <th>Total Length of Bwd Packet</th>\n",
       "      <th>Fwd Packet Length Max</th>\n",
       "      <th>Fwd Packet Length Min</th>\n",
       "      <th>Fwd Packet Length Mean</th>\n",
       "      <th>Fwd Packet Length Std</th>\n",
       "      <th>...</th>\n",
       "      <th>Active Mean</th>\n",
       "      <th>Active Std</th>\n",
       "      <th>Active Max</th>\n",
       "      <th>Active Min</th>\n",
       "      <th>Idle Mean</th>\n",
       "      <th>Idle Std</th>\n",
       "      <th>Idle Max</th>\n",
       "      <th>Idle Min</th>\n",
       "      <th>Total TCP Flow Time</th>\n",
       "      <th>Label</th>\n",
       "    </tr>\n",
       "  </thead>\n",
       "  <tbody>\n",
       "    <tr>\n",
       "      <th>0</th>\n",
       "      <td>6</td>\n",
       "      <td>1179</td>\n",
       "      <td>5</td>\n",
       "      <td>5</td>\n",
       "      <td>161</td>\n",
       "      <td>488</td>\n",
       "      <td>161</td>\n",
       "      <td>0</td>\n",
       "      <td>32.2</td>\n",
       "      <td>72.001389</td>\n",
       "      <td>...</td>\n",
       "      <td>0.0</td>\n",
       "      <td>0.0</td>\n",
       "      <td>0</td>\n",
       "      <td>0</td>\n",
       "      <td>0.0</td>\n",
       "      <td>0.000000e+00</td>\n",
       "      <td>0</td>\n",
       "      <td>0</td>\n",
       "      <td>1179</td>\n",
       "      <td>Benign</td>\n",
       "    </tr>\n",
       "    <tr>\n",
       "      <th>1</th>\n",
       "      <td>17</td>\n",
       "      <td>65832</td>\n",
       "      <td>2</td>\n",
       "      <td>2</td>\n",
       "      <td>86</td>\n",
       "      <td>118</td>\n",
       "      <td>43</td>\n",
       "      <td>43</td>\n",
       "      <td>43.0</td>\n",
       "      <td>0.000000</td>\n",
       "      <td>...</td>\n",
       "      <td>0.0</td>\n",
       "      <td>0.0</td>\n",
       "      <td>0</td>\n",
       "      <td>0</td>\n",
       "      <td>0.0</td>\n",
       "      <td>0.000000e+00</td>\n",
       "      <td>0</td>\n",
       "      <td>0</td>\n",
       "      <td>0</td>\n",
       "      <td>Benign</td>\n",
       "    </tr>\n",
       "    <tr>\n",
       "      <th>2</th>\n",
       "      <td>6</td>\n",
       "      <td>937</td>\n",
       "      <td>5</td>\n",
       "      <td>5</td>\n",
       "      <td>161</td>\n",
       "      <td>488</td>\n",
       "      <td>161</td>\n",
       "      <td>0</td>\n",
       "      <td>32.2</td>\n",
       "      <td>72.001389</td>\n",
       "      <td>...</td>\n",
       "      <td>0.0</td>\n",
       "      <td>0.0</td>\n",
       "      <td>0</td>\n",
       "      <td>0</td>\n",
       "      <td>0.0</td>\n",
       "      <td>0.000000e+00</td>\n",
       "      <td>0</td>\n",
       "      <td>0</td>\n",
       "      <td>937</td>\n",
       "      <td>Benign</td>\n",
       "    </tr>\n",
       "    <tr>\n",
       "      <th>3</th>\n",
       "      <td>6</td>\n",
       "      <td>21342395</td>\n",
       "      <td>1</td>\n",
       "      <td>4</td>\n",
       "      <td>0</td>\n",
       "      <td>0</td>\n",
       "      <td>0</td>\n",
       "      <td>0</td>\n",
       "      <td>0.0</td>\n",
       "      <td>0.000000</td>\n",
       "      <td>...</td>\n",
       "      <td>3155749.0</td>\n",
       "      <td>0.0</td>\n",
       "      <td>3155749</td>\n",
       "      <td>3155749</td>\n",
       "      <td>9093323.0</td>\n",
       "      <td>4.374751e+06</td>\n",
       "      <td>12186739</td>\n",
       "      <td>5999907</td>\n",
       "      <td>21342395</td>\n",
       "      <td>Benign</td>\n",
       "    </tr>\n",
       "    <tr>\n",
       "      <th>4</th>\n",
       "      <td>6</td>\n",
       "      <td>2027836</td>\n",
       "      <td>8</td>\n",
       "      <td>7</td>\n",
       "      <td>1128</td>\n",
       "      <td>1581</td>\n",
       "      <td>661</td>\n",
       "      <td>0</td>\n",
       "      <td>141.0</td>\n",
       "      <td>222.623321</td>\n",
       "      <td>...</td>\n",
       "      <td>0.0</td>\n",
       "      <td>0.0</td>\n",
       "      <td>0</td>\n",
       "      <td>0</td>\n",
       "      <td>0.0</td>\n",
       "      <td>0.000000e+00</td>\n",
       "      <td>0</td>\n",
       "      <td>0</td>\n",
       "      <td>2027836</td>\n",
       "      <td>Benign</td>\n",
       "    </tr>\n",
       "  </tbody>\n",
       "</table>\n",
       "<p>5 rows × 80 columns</p>\n",
       "</div>"
      ],
      "text/plain": [
       "   Protocol  Flow Duration  Total Fwd Packet  Total Bwd packets  \\\n",
       "0         6           1179                 5                  5   \n",
       "1        17          65832                 2                  2   \n",
       "2         6            937                 5                  5   \n",
       "3         6       21342395                 1                  4   \n",
       "4         6        2027836                 8                  7   \n",
       "\n",
       "   Total Length of Fwd Packet  Total Length of Bwd Packet  \\\n",
       "0                         161                         488   \n",
       "1                          86                         118   \n",
       "2                         161                         488   \n",
       "3                           0                           0   \n",
       "4                        1128                        1581   \n",
       "\n",
       "   Fwd Packet Length Max  Fwd Packet Length Min  Fwd Packet Length Mean  \\\n",
       "0                    161                      0                    32.2   \n",
       "1                     43                     43                    43.0   \n",
       "2                    161                      0                    32.2   \n",
       "3                      0                      0                     0.0   \n",
       "4                    661                      0                   141.0   \n",
       "\n",
       "   Fwd Packet Length Std  ...  Active Mean  Active Std  Active Max  \\\n",
       "0              72.001389  ...          0.0         0.0           0   \n",
       "1               0.000000  ...          0.0         0.0           0   \n",
       "2              72.001389  ...          0.0         0.0           0   \n",
       "3               0.000000  ...    3155749.0         0.0     3155749   \n",
       "4             222.623321  ...          0.0         0.0           0   \n",
       "\n",
       "   Active Min  Idle Mean      Idle Std  Idle Max  Idle Min  \\\n",
       "0           0        0.0  0.000000e+00         0         0   \n",
       "1           0        0.0  0.000000e+00         0         0   \n",
       "2           0        0.0  0.000000e+00         0         0   \n",
       "3     3155749  9093323.0  4.374751e+06  12186739   5999907   \n",
       "4           0        0.0  0.000000e+00         0         0   \n",
       "\n",
       "   Total TCP Flow Time   Label  \n",
       "0                 1179  Benign  \n",
       "1                    0  Benign  \n",
       "2                  937  Benign  \n",
       "3             21342395  Benign  \n",
       "4              2027836  Benign  \n",
       "\n",
       "[5 rows x 80 columns]"
      ]
     },
     "execution_count": 6,
     "metadata": {},
     "output_type": "execute_result"
    }
   ],
   "source": [
    "training_df.head()"
   ]
  },
  {
   "cell_type": "code",
   "execution_count": 11,
   "metadata": {
    "tags": []
   },
   "outputs": [],
   "source": [
    "training_data_df = training_df"
   ]
  },
  {
   "cell_type": "markdown",
   "metadata": {},
   "source": [
    "# Handling imbalance\n",
    "\n",
    "> Two strategy used\n",
    "    - Undersampling the majority to a benchmark \n",
    "    - Oversample the minority with SMOTE and SMOTEEN (rare classes <110)"
   ]
  },
  {
   "cell_type": "code",
   "execution_count": null,
   "metadata": {
    "tags": []
   },
   "outputs": [
    {
     "name": "stdout",
     "output_type": "stream",
     "text": [
      "Final Sampling Strategy:\n",
      " {'Benign': 1500000, 'DoS Hulk': 1442528, 'DDoS-HOIC': 865834, 'DDoS-LOIC-HTTP': 231462, 'Botnet Ares': 114337, 'SSH-BruteForce': 75358, 'DoS GoldenEye': 50000, 'DoS Slowloris': 50000, 'DDoS-LOIC-UDP': 50000, 'Web Attack - Brute Force': 21000, 'Web Attack - XSS': 21000}\n"
     ]
    }
   ],
   "source": [
    "# --------------------------------------------------\n",
    "# Undersample \"Benign\" to 1,000,000 samples.\n",
    "# --------------------------------------------------\n",
    "X = training_data_df.drop('Label', axis=1)\n",
    "y = training_data_df['Label']\n",
    "\n",
    "# Reduce the dominant \"Benign\" class while keeping its diversity.\n",
    "under_sampler = RandomUnderSampler(\n",
    "    sampling_strategy={'Benign': 1500000},\n",
    "    random_state=42\n",
    ")\n",
    "X_under, y_under = under_sampler.fit_resample(X, y)\n",
    "\n",
    "# Get class counts after undersampling\n",
    "counts_after_undersample = y_under.value_counts()\n",
    "benign_count = counts_after_undersample['Benign']  # Expected: 1,000,000\n",
    "\n",
    "# ---------------------------------------------------\n",
    "# parameters for oversampling minority classes.\n",
    "# ---------------------------------------------------\n",
    "target_ratio = 0.1          # Target: 10% of \"Benign\" (100,000 samples)\n",
    "target_count = int(benign_count * target_ratio)\n",
    "max_cap = 50000            # Increased cap for better representation\n",
    "min_sample_threshold = 110 # benchmark for very rare minority class\n",
    "min_target = 21000         # Higher target for rare classes\n",
    "\n",
    "# ---------------------------------------------------\n",
    "# dictionary specifying the final desired counts per class.\n",
    "# ---------------------------------------------------\n",
    "sampling_strategy_dict = {}\n",
    "\n",
    "for cls, current_count in counts_after_undersample.items():\n",
    "    if cls == 'Benign':\n",
    "        # Keep the \"Benign\" class as is.\n",
    "        sampling_strategy_dict[cls] = current_count\n",
    "\n",
    "        # For extremely underrepresented classes, apply a fixed modest target.\n",
    "    elif current_count < min_sample_threshold:\n",
    "        # Only oversample if below the fixed minimum target.\n",
    "        sampling_strategy_dict[cls] = min_target if current_count < min_target else current_count\n",
    "    else:\n",
    "        # For classes with at least min_sample_threshold samples, target the ratio-based count,\n",
    "        ratio_target = target_count\n",
    "        if current_count < ratio_target:\n",
    "            # Only cap at 50,000 if below it; otherwise, keep original count\n",
    "            sampling_strategy_dict[cls] = min(ratio_target, max_cap) if current_count < max_cap else current_count\n",
    "        else:\n",
    "            # If the class already meets or exceeds the target, leave it unchanged.\n",
    "            sampling_strategy_dict[cls] = current_count\n",
    "\n",
    "print(\"Final Sampling Strategy:\\n\", sampling_strategy_dict)\n",
    "\n",
    "# ---------------------------------------------------\n",
    "# SMOTEENN and SMOTE to oversample the minority classes according to our strategy.\n",
    "# ---------------------------------------------------\n",
    "\n",
    "\n",
    "smoteenn = SMOTEENN(sampling_strategy={k: v for k, v in sampling_strategy_dict.items() if v == min_target}, random_state=42)\n",
    "X_rare_bal, y_rare_bal = smoteenn.fit_resample(X_under, y_under)\n",
    "\n",
    "smote = SMOTE(sampling_strategy={k: v for k, v in sampling_strategy_dict.items() if v != min_target}, random_state=42)\n",
    "X_bal, y_bal = smote.fit_resample(X_rare_bal, y_rare_bal)"
   ]
  },
  {
   "cell_type": "code",
   "execution_count": 13,
   "metadata": {
    "tags": []
   },
   "outputs": [
    {
     "name": "stdout",
     "output_type": "stream",
     "text": [
      "Final Distribution:\n",
      " Benign                      1500000\n",
      "DoS Hulk                    1442528\n",
      "DDoS-HOIC                    865834\n",
      "DDoS-LOIC-HTTP               231462\n",
      "Botnet Ares                  114337\n",
      "SSH-BruteForce                75358\n",
      "DDoS-LOIC-UDP                 50000\n",
      "DoS GoldenEye                 50000\n",
      "DoS Slowloris                 50000\n",
      "Web Attack - XSS              20894\n",
      "Web Attack - Brute Force      20812\n",
      "Name: Label, dtype: int64\n"
     ]
    }
   ],
   "source": [
    "# check the distribution\n",
    "print(\"Final Distribution:\\n\", pd.Series(y_bal).value_counts())"
   ]
  },
  {
   "cell_type": "code",
   "execution_count": 14,
   "metadata": {
    "tags": []
   },
   "outputs": [],
   "source": [
    "# Concating the  balanced data\n",
    "balanced_df = pd.concat([X_bal, y_bal], axis=1)"
   ]
  },
  {
   "cell_type": "code",
   "execution_count": null,
   "metadata": {
    "tags": []
   },
   "outputs": [
    {
     "name": "stdout",
     "output_type": "stream",
     "text": [
      "Uploaded successfully to S3 bucket\n",
      "Balanced dataset saved to balanced_training.csv.\n",
      "New class distribution:\n",
      " Benign                      1500000\n",
      "DoS Hulk                    1442528\n",
      "DDoS-HOIC                    865834\n",
      "DDoS-LOIC-HTTP               231462\n",
      "Botnet Ares                  114337\n",
      "SSH-BruteForce                75358\n",
      "DDoS-LOIC-UDP                 50000\n",
      "DoS GoldenEye                 50000\n",
      "DoS Slowloris                 50000\n",
      "Web Attack - XSS              20894\n",
      "Web Attack - Brute Force      20812\n",
      "Name: Label, dtype: int64\n"
     ]
    }
   ],
   "source": [
    "# Export balanced training set to CSV\n",
    "data_output_path = 's3://final-praxis/Dataset/output-path/new-processed-data'\n",
    "balanced_df.to_csv(f'{data_output_path}/balanced_training.csv', index=False)\n",
    "print(\"Uploaded successfully to S3 bucket\")\n",
    "\n",
    "print(\"Balanced dataset saved to balanced_training.csv.\")\n",
    "print(\"New class distribution:\\n\", y_bal.value_counts())"
   ]
  },
  {
   "cell_type": "code",
   "execution_count": null,
   "metadata": {
    "tags": []
   },
   "outputs": [
    {
     "name": "stdout",
     "output_type": "stream",
     "text": [
      "=== Original Class Distribution ===\n",
      "Benign                      33349544\n",
      "DoS Hulk                     1442528\n",
      "DDoS-HOIC                     865834\n",
      "DDoS-LOIC-HTTP                231462\n",
      "Botnet Ares                   114337\n",
      "SSH-BruteForce                 75358\n",
      "DoS GoldenEye                  18048\n",
      "DoS Slowloris                   6792\n",
      "DDoS-LOIC-UDP                   2022\n",
      "Web Attack - Brute Force         105\n",
      "Web Attack - XSS                  90\n",
      "Name: Label, dtype: int64\n",
      "Original imbalance ratio (largest / smallest): 370550.49\n",
      "\n",
      "\n",
      "=== Balanced Class Distribution ===\n",
      "Benign                      1500000\n",
      "DoS Hulk                    1442528\n",
      "DDoS-HOIC                    865834\n",
      "DDoS-LOIC-HTTP               231462\n",
      "Botnet Ares                  114337\n",
      "SSH-BruteForce                75358\n",
      "DDoS-LOIC-UDP                 50000\n",
      "DoS GoldenEye                 50000\n",
      "DoS Slowloris                 50000\n",
      "Web Attack - XSS              20894\n",
      "Web Attack - Brute Force      20812\n",
      "Name: Label, dtype: int64\n",
      "Balanced imbalance ratio (largest / smallest): 72.07\n"
     ]
    }
   ],
   "source": [
    "#  Original distribution\n",
    "original_counts = training_data_df['Label'].value_counts()\n",
    "\n",
    "#  Balanced distribution\n",
    "balanced_counts = balanced_df['Label'].value_counts()\n",
    "\n",
    "# Compute imbalance ratio: largest class / smallest class\n",
    "original_imbalance_ratio = original_counts.max() / original_counts.min()\n",
    "balanced_imbalance_ratio = balanced_counts.max() / balanced_counts.min()\n",
    "\n",
    "print(\"=== Original Class Distribution ===\")\n",
    "print(original_counts)\n",
    "print(f\"Original imbalance ratio (largest / smallest): {original_imbalance_ratio:.2f}\")\n",
    "print()\n",
    "print(\"\\n=== Balanced Class Distribution ===\")\n",
    "print(balanced_counts)\n",
    "print(f\"Balanced imbalance ratio (largest / smallest): {balanced_imbalance_ratio:.2f}\")"
   ]
  },
  {
   "cell_type": "code",
   "execution_count": 18,
   "metadata": {
    "tags": []
   },
   "outputs": [
    {
     "name": "stderr",
     "output_type": "stream",
     "text": [
      "/tmp/ipykernel_78854/1928869239.py:14: UserWarning: set_ticklabels() should only be used with a fixed number of ticks, i.e. after set_ticks() or using a FixedLocator.\n",
      "  axes[0].set_xticklabels(axes[0].get_xticklabels(), rotation=90)\n",
      "/tmp/ipykernel_78854/1928869239.py:19: UserWarning: set_ticklabels() should only be used with a fixed number of ticks, i.e. after set_ticks() or using a FixedLocator.\n",
      "  axes[1].set_xticklabels(axes[1].get_xticklabels(), rotation=90)\n"
     ]
    },
    {
     "data": {
      "image/png": "[encoded data removed]",
      "text/plain": [
       "<Figure size 1400x600 with 2 Axes>"
      ]
     },
     "metadata": {},
     "output_type": "display_data"
    }
   ],
   "source": [
    "# Convert the value_counts Series to DataFrame for easy plotting\n",
    "original_df = original_counts.reset_index()\n",
    "original_df.columns = ['Label', 'Count']\n",
    "\n",
    "balanced_df_counts = balanced_counts.reset_index()\n",
    "balanced_df_counts.columns = ['Label', 'Count']\n",
    "\n",
    "# Create subplots\n",
    "fig, axes = plt.subplots(nrows=1, ncols=2, figsize=(14, 6), sharey=False)\n",
    "\n",
    "# Bar chart: Before Resampling\n",
    "sns.barplot(x='Label', y='Count', data=original_df, ax=axes[0], color='steelblue')\n",
    "axes[0].set_title(\"Class Distribution Before Resampling\")\n",
    "axes[0].set_xticklabels(axes[0].get_xticklabels(), rotation=90)\n",
    "\n",
    "# Bar chart: After Resampling\n",
    "sns.barplot(x='Label', y='Count', data=balanced_df_counts, ax=axes[1], color='lightcoral')\n",
    "axes[1].set_title(\"Class Distribution After Resampling\")\n",
    "axes[1].set_xticklabels(axes[1].get_xticklabels(), rotation=90)\n",
    "\n",
    "plt.tight_layout()\n",
    "plt.show()"
   ]
  },
  {
   "cell_type": "code",
   "execution_count": 19,
   "metadata": {
    "tags": []
   },
   "outputs": [
    {
     "data": {
      "image/png": "[encoded data removed]",
      "text/plain": [
       "<Figure size 1200x600 with 1 Axes>"
      ]
     },
     "metadata": {},
     "output_type": "display_data"
    }
   ],
   "source": [
    "import numpy as np\n",
    "\n",
    "# For each class, compute ratio vs. \"Benign\" for original and balanced\n",
    "class_labels = original_counts.index.tolist()\n",
    "\n",
    "# Original ratio = (class_count / benign_count)\n",
    "benign_count_orig = original_counts.get('Benign', 1)  # avoid division by zero\n",
    "ratios_before = [original_counts[label] / benign_count_orig for label in class_labels]\n",
    "\n",
    "# Balanced ratio\n",
    "benign_count_bal = balanced_counts.get('Benign', 1)\n",
    "ratios_after = [balanced_counts[label] / benign_count_bal for label in class_labels]\n",
    "\n",
    "# Create a DataFrame to hold these ratios\n",
    "ratio_df = pd.DataFrame({\n",
    "    'Label': class_labels,\n",
    "    'Ratio Before': ratios_before,\n",
    "    'Ratio After': ratios_after\n",
    "})\n",
    "\n",
    "# Melt for easy grouped bar chart\n",
    "ratio_melted = ratio_df.melt(id_vars='Label', var_name='Stage', value_name='Ratio')\n",
    "\n",
    "# Plot\n",
    "plt.figure(figsize=(12,6))\n",
    "sns.barplot(x='Label', y='Ratio', hue='Stage', data=ratio_melted)\n",
    "plt.xticks(rotation=90)\n",
    "plt.title(\"Class Ratio Relative to Benign: Before vs. After Resampling\")\n",
    "plt.show()"
   ]
  },
  {
   "cell_type": "markdown",
   "metadata": {},
   "source": [
    "### Displaying outcomes and SMOTE review"
   ]
  },
  {
   "cell_type": "code",
   "execution_count": 20,
   "metadata": {
    "tags": []
   },
   "outputs": [
    {
     "name": "stdout",
     "output_type": "stream",
     "text": [
      "\n",
      "Resampled Class Distribution:\n",
      "Benign                      1500000\n",
      "Botnet Ares                  114337\n",
      "DDoS-HOIC                    865834\n",
      "DDoS-LOIC-HTTP               231462\n",
      "DDoS-LOIC-UDP                 50000\n",
      "DoS GoldenEye                 50000\n",
      "DoS Hulk                    1442528\n",
      "DoS Slowloris                 50000\n",
      "SSH-BruteForce                75358\n",
      "Web Attack - Brute Force      20812\n",
      "Web Attack - XSS              20894\n",
      "Name: Label, dtype: int64\n"
     ]
    },
    {
     "name": "stderr",
     "output_type": "stream",
     "text": [
      "/tmp/ipykernel_78854/2984674684.py:11: FutureWarning: \n",
      "\n",
      "Passing `palette` without assigning `hue` is deprecated and will be removed in v0.14.0. Assign the `x` variable to `hue` and set `legend=False` for the same effect.\n",
      "\n",
      "  sns.barplot(x=class_distribution.index, y=class_distribution.values, palette='viridis')\n"
     ]
    },
    {
     "data": {
      "image/png": "[encoded data removed]",
      "text/plain": [
       "<Figure size 1200x600 with 1 Axes>"
      ]
     },
     "metadata": {},
     "output_type": "display_data"
    }
   ],
   "source": [
    "# Check class distribution\n",
    "class_distribution = balanced_df['Label'].value_counts().sort_index()\n",
    "print(\"\\nResampled Class Distribution:\")\n",
    "print(class_distribution)\n",
    "\n",
    "# Visualize class distribution\n",
    "import matplotlib.pyplot as plt\n",
    "import seaborn as sns\n",
    "\n",
    "plt.figure(figsize=(12, 6))\n",
    "sns.barplot(x=class_distribution.index, y=class_distribution.values, palette='viridis')\n",
    "plt.title('Class Distribution After SMOTE')\n",
    "plt.xlabel('Class Label')\n",
    "plt.ylabel('Number of Samples')\n",
    "plt.xticks(rotation=90)\n",
    "plt.tight_layout()\n",
    "plt.show()"
   ]
  },
  {
   "cell_type": "markdown",
   "metadata": {},
   "source": [
    "# End of SMOTE"
   ]
  },
  {
   "cell_type": "markdown",
   "metadata": {},
   "source": [
    "# reviewing the New Dataset"
   ]
  },
  {
   "cell_type": "code",
   "execution_count": 21,
   "metadata": {
    "tags": []
   },
   "outputs": [
    {
     "data": {
      "text/html": [
       "<div>\n",
       "<style scoped>\n",
       "    .dataframe tbody tr th:only-of-type {\n",
       "        vertical-align: middle;\n",
       "    }\n",
       "\n",
       "    .dataframe tbody tr th {\n",
       "        vertical-align: top;\n",
       "    }\n",
       "\n",
       "    .dataframe thead th {\n",
       "        text-align: right;\n",
       "    }\n",
       "</style>\n",
       "<table border=\"1\" class=\"dataframe\">\n",
       "  <thead>\n",
       "    <tr style=\"text-align: right;\">\n",
       "      <th></th>\n",
       "      <th>Protocol</th>\n",
       "      <th>Flow Duration</th>\n",
       "      <th>Total Fwd Packet</th>\n",
       "      <th>Total Bwd packets</th>\n",
       "      <th>Total Length of Fwd Packet</th>\n",
       "      <th>Total Length of Bwd Packet</th>\n",
       "      <th>Fwd Packet Length Max</th>\n",
       "      <th>Fwd Packet Length Min</th>\n",
       "      <th>Fwd Packet Length Mean</th>\n",
       "      <th>Fwd Packet Length Std</th>\n",
       "      <th>...</th>\n",
       "      <th>Active Mean</th>\n",
       "      <th>Active Std</th>\n",
       "      <th>Active Max</th>\n",
       "      <th>Active Min</th>\n",
       "      <th>Idle Mean</th>\n",
       "      <th>Idle Std</th>\n",
       "      <th>Idle Max</th>\n",
       "      <th>Idle Min</th>\n",
       "      <th>Total TCP Flow Time</th>\n",
       "      <th>Label</th>\n",
       "    </tr>\n",
       "  </thead>\n",
       "  <tbody>\n",
       "    <tr>\n",
       "      <th>0</th>\n",
       "      <td>6</td>\n",
       "      <td>90304674</td>\n",
       "      <td>14</td>\n",
       "      <td>10</td>\n",
       "      <td>1441</td>\n",
       "      <td>1731</td>\n",
       "      <td>725</td>\n",
       "      <td>0</td>\n",
       "      <td>102.928571</td>\n",
       "      <td>191.148941</td>\n",
       "      <td>...</td>\n",
       "      <td>4197982.0</td>\n",
       "      <td>0.0</td>\n",
       "      <td>4197982</td>\n",
       "      <td>4197982</td>\n",
       "      <td>86106692.0</td>\n",
       "      <td>0.0</td>\n",
       "      <td>86106692</td>\n",
       "      <td>86106692</td>\n",
       "      <td>90304674</td>\n",
       "      <td>Benign</td>\n",
       "    </tr>\n",
       "    <tr>\n",
       "      <th>1</th>\n",
       "      <td>6</td>\n",
       "      <td>527689</td>\n",
       "      <td>5</td>\n",
       "      <td>4</td>\n",
       "      <td>373</td>\n",
       "      <td>172</td>\n",
       "      <td>140</td>\n",
       "      <td>0</td>\n",
       "      <td>74.600000</td>\n",
       "      <td>70.283711</td>\n",
       "      <td>...</td>\n",
       "      <td>0.0</td>\n",
       "      <td>0.0</td>\n",
       "      <td>0</td>\n",
       "      <td>0</td>\n",
       "      <td>0.0</td>\n",
       "      <td>0.0</td>\n",
       "      <td>0</td>\n",
       "      <td>0</td>\n",
       "      <td>527689</td>\n",
       "      <td>Benign</td>\n",
       "    </tr>\n",
       "    <tr>\n",
       "      <th>2</th>\n",
       "      <td>6</td>\n",
       "      <td>3003576</td>\n",
       "      <td>3</td>\n",
       "      <td>0</td>\n",
       "      <td>0</td>\n",
       "      <td>0</td>\n",
       "      <td>0</td>\n",
       "      <td>0</td>\n",
       "      <td>0.000000</td>\n",
       "      <td>0.000000</td>\n",
       "      <td>...</td>\n",
       "      <td>0.0</td>\n",
       "      <td>0.0</td>\n",
       "      <td>0</td>\n",
       "      <td>0</td>\n",
       "      <td>0.0</td>\n",
       "      <td>0.0</td>\n",
       "      <td>0</td>\n",
       "      <td>0</td>\n",
       "      <td>3003576</td>\n",
       "      <td>Benign</td>\n",
       "    </tr>\n",
       "    <tr>\n",
       "      <th>3</th>\n",
       "      <td>6</td>\n",
       "      <td>6442018</td>\n",
       "      <td>8</td>\n",
       "      <td>11</td>\n",
       "      <td>1148</td>\n",
       "      <td>1581</td>\n",
       "      <td>677</td>\n",
       "      <td>0</td>\n",
       "      <td>143.500000</td>\n",
       "      <td>228.129662</td>\n",
       "      <td>...</td>\n",
       "      <td>0.0</td>\n",
       "      <td>0.0</td>\n",
       "      <td>0</td>\n",
       "      <td>0</td>\n",
       "      <td>0.0</td>\n",
       "      <td>0.0</td>\n",
       "      <td>0</td>\n",
       "      <td>0</td>\n",
       "      <td>6442018</td>\n",
       "      <td>Benign</td>\n",
       "    </tr>\n",
       "    <tr>\n",
       "      <th>4</th>\n",
       "      <td>17</td>\n",
       "      <td>31891</td>\n",
       "      <td>1</td>\n",
       "      <td>1</td>\n",
       "      <td>35</td>\n",
       "      <td>91</td>\n",
       "      <td>35</td>\n",
       "      <td>35</td>\n",
       "      <td>35.000000</td>\n",
       "      <td>0.000000</td>\n",
       "      <td>...</td>\n",
       "      <td>0.0</td>\n",
       "      <td>0.0</td>\n",
       "      <td>0</td>\n",
       "      <td>0</td>\n",
       "      <td>0.0</td>\n",
       "      <td>0.0</td>\n",
       "      <td>0</td>\n",
       "      <td>0</td>\n",
       "      <td>0</td>\n",
       "      <td>Benign</td>\n",
       "    </tr>\n",
       "  </tbody>\n",
       "</table>\n",
       "<p>5 rows × 80 columns</p>\n",
       "</div>"
      ],
      "text/plain": [
       "   Protocol  Flow Duration  Total Fwd Packet  Total Bwd packets  \\\n",
       "0         6       90304674                14                 10   \n",
       "1         6         527689                 5                  4   \n",
       "2         6        3003576                 3                  0   \n",
       "3         6        6442018                 8                 11   \n",
       "4        17          31891                 1                  1   \n",
       "\n",
       "   Total Length of Fwd Packet  Total Length of Bwd Packet  \\\n",
       "0                        1441                        1731   \n",
       "1                         373                         172   \n",
       "2                           0                           0   \n",
       "3                        1148                        1581   \n",
       "4                          35                          91   \n",
       "\n",
       "   Fwd Packet Length Max  Fwd Packet Length Min  Fwd Packet Length Mean  \\\n",
       "0                    725                      0              102.928571   \n",
       "1                    140                      0               74.600000   \n",
       "2                      0                      0                0.000000   \n",
       "3                    677                      0              143.500000   \n",
       "4                     35                     35               35.000000   \n",
       "\n",
       "   Fwd Packet Length Std  ...  Active Mean  Active Std  Active Max  \\\n",
       "0             191.148941  ...    4197982.0         0.0     4197982   \n",
       "1              70.283711  ...          0.0         0.0           0   \n",
       "2               0.000000  ...          0.0         0.0           0   \n",
       "3             228.129662  ...          0.0         0.0           0   \n",
       "4               0.000000  ...          0.0         0.0           0   \n",
       "\n",
       "   Active Min   Idle Mean  Idle Std  Idle Max  Idle Min  Total TCP Flow Time  \\\n",
       "0     4197982  86106692.0       0.0  86106692  86106692             90304674   \n",
       "1           0         0.0       0.0         0         0               527689   \n",
       "2           0         0.0       0.0         0         0              3003576   \n",
       "3           0         0.0       0.0         0         0              6442018   \n",
       "4           0         0.0       0.0         0         0                    0   \n",
       "\n",
       "    Label  \n",
       "0  Benign  \n",
       "1  Benign  \n",
       "2  Benign  \n",
       "3  Benign  \n",
       "4  Benign  \n",
       "\n",
       "[5 rows x 80 columns]"
      ]
     },
     "execution_count": 21,
     "metadata": {},
     "output_type": "execute_result"
    }
   ],
   "source": [
    "balanced_df.head()"
   ]
  },
  {
   "cell_type": "code",
   "execution_count": 22,
   "metadata": {
    "tags": []
   },
   "outputs": [
    {
     "data": {
      "text/plain": [
       "(4421225, 80)"
      ]
     },
     "execution_count": 22,
     "metadata": {},
     "output_type": "execute_result"
    }
   ],
   "source": [
    "balanced_df.shape"
   ]
  },
  {
   "cell_type": "code",
   "execution_count": 23,
   "metadata": {
    "tags": []
   },
   "outputs": [
    {
     "name": "stdout",
     "output_type": "stream",
     "text": [
      "<class 'pandas.core.frame.DataFrame'>\n",
      "RangeIndex: 4421225 entries, 0 to 4421224\n",
      "Data columns (total 80 columns):\n",
      " #   Column                      Dtype  \n",
      "---  ------                      -----  \n",
      " 0   Protocol                    int64  \n",
      " 1   Flow Duration               int64  \n",
      " 2   Total Fwd Packet            int64  \n",
      " 3   Total Bwd packets           int64  \n",
      " 4   Total Length of Fwd Packet  int64  \n",
      " 5   Total Length of Bwd Packet  int64  \n",
      " 6   Fwd Packet Length Max       int64  \n",
      " 7   Fwd Packet Length Min       int64  \n",
      " 8   Fwd Packet Length Mean      float64\n",
      " 9   Fwd Packet Length Std       float64\n",
      " 10  Bwd Packet Length Max       int64  \n",
      " 11  Bwd Packet Length Min       int64  \n",
      " 12  Bwd Packet Length Mean      float64\n",
      " 13  Bwd Packet Length Std       float64\n",
      " 14  Flow Bytes/s                float64\n",
      " 15  Flow Packets/s              float64\n",
      " 16  Flow IAT Mean               float64\n",
      " 17  Flow IAT Std                float64\n",
      " 18  Flow IAT Max                int64  \n",
      " 19  Flow IAT Min                int64  \n",
      " 20  Fwd IAT Total               int64  \n",
      " 21  Fwd IAT Mean                float64\n",
      " 22  Fwd IAT Std                 float64\n",
      " 23  Fwd IAT Max                 int64  \n",
      " 24  Fwd IAT Min                 int64  \n",
      " 25  Bwd IAT Total               int64  \n",
      " 26  Bwd IAT Mean                float64\n",
      " 27  Bwd IAT Std                 float64\n",
      " 28  Bwd IAT Max                 int64  \n",
      " 29  Bwd IAT Min                 int64  \n",
      " 30  Fwd PSH Flags               int64  \n",
      " 31  Bwd PSH Flags               int64  \n",
      " 32  Fwd URG Flags               int64  \n",
      " 33  Fwd RST Flags               float64\n",
      " 34  Bwd RST Flags               float64\n",
      " 35  Fwd Header Length           int64  \n",
      " 36  Bwd Header Length           int64  \n",
      " 37  Fwd Packets/s               float64\n",
      " 38  Bwd Packets/s               float64\n",
      " 39  Packet Length Min           int64  \n",
      " 40  Packet Length Max           int64  \n",
      " 41  Packet Length Mean          float64\n",
      " 42  Packet Length Std           float64\n",
      " 43  Packet Length Variance      float64\n",
      " 44  FIN Flag Count              int64  \n",
      " 45  SYN Flag Count              int64  \n",
      " 46  RST Flag Count              int64  \n",
      " 47  PSH Flag Count              int64  \n",
      " 48  ACK Flag Count              int64  \n",
      " 49  URG Flag Count              int64  \n",
      " 50  CWR Flag Count              int64  \n",
      " 51  ECE Flag Count              int64  \n",
      " 52  Down/Up Ratio               float64\n",
      " 53  Average Packet Size         float64\n",
      " 54  Fwd Segment Size Avg        float64\n",
      " 55  Bwd Segment Size Avg        float64\n",
      " 56  Fwd Bytes/Bulk Avg          int64  \n",
      " 57  Fwd Packet/Bulk Avg         int64  \n",
      " 58  Fwd Bulk Rate Avg           int64  \n",
      " 59  Bwd Bytes/Bulk Avg          int64  \n",
      " 60  Bwd Packet/Bulk Avg         int64  \n",
      " 61  Bwd Bulk Rate Avg           int64  \n",
      " 62  Subflow Fwd Packets         int64  \n",
      " 63  Subflow Fwd Bytes           int64  \n",
      " 64  Subflow Bwd Packets         int64  \n",
      " 65  Subflow Bwd Bytes           int64  \n",
      " 66  FWD Init Win Bytes          int64  \n",
      " 67  Bwd Init Win Bytes          int64  \n",
      " 68  Fwd Act Data Pkts           int64  \n",
      " 69  Fwd Seg Size Min            int64  \n",
      " 70  Active Mean                 float64\n",
      " 71  Active Std                  float64\n",
      " 72  Active Max                  int64  \n",
      " 73  Active Min                  int64  \n",
      " 74  Idle Mean                   float64\n",
      " 75  Idle Std                    float64\n",
      " 76  Idle Max                    int64  \n",
      " 77  Idle Min                    int64  \n",
      " 78  Total TCP Flow Time         int64  \n",
      " 79  Label                       object \n",
      "dtypes: float64(27), int64(52), object(1)\n",
      "memory usage: 2.6+ GB\n"
     ]
    }
   ],
   "source": [
    "balanced_df.info()"
   ]
  },
  {
   "cell_type": "code",
   "execution_count": 24,
   "metadata": {
    "tags": []
   },
   "outputs": [
    {
     "data": {
      "text/html": [
       "<div>\n",
       "<style scoped>\n",
       "    .dataframe tbody tr th:only-of-type {\n",
       "        vertical-align: middle;\n",
       "    }\n",
       "\n",
       "    .dataframe tbody tr th {\n",
       "        vertical-align: top;\n",
       "    }\n",
       "\n",
       "    .dataframe thead th {\n",
       "        text-align: right;\n",
       "    }\n",
       "</style>\n",
       "<table border=\"1\" class=\"dataframe\">\n",
       "  <thead>\n",
       "    <tr style=\"text-align: right;\">\n",
       "      <th></th>\n",
       "      <th>Protocol</th>\n",
       "      <th>Flow Duration</th>\n",
       "      <th>Total Fwd Packet</th>\n",
       "      <th>Total Bwd packets</th>\n",
       "      <th>Total Length of Fwd Packet</th>\n",
       "      <th>Total Length of Bwd Packet</th>\n",
       "      <th>Fwd Packet Length Max</th>\n",
       "      <th>Fwd Packet Length Min</th>\n",
       "      <th>Fwd Packet Length Mean</th>\n",
       "      <th>Fwd Packet Length Std</th>\n",
       "      <th>...</th>\n",
       "      <th>Fwd Seg Size Min</th>\n",
       "      <th>Active Mean</th>\n",
       "      <th>Active Std</th>\n",
       "      <th>Active Max</th>\n",
       "      <th>Active Min</th>\n",
       "      <th>Idle Mean</th>\n",
       "      <th>Idle Std</th>\n",
       "      <th>Idle Max</th>\n",
       "      <th>Idle Min</th>\n",
       "      <th>Total TCP Flow Time</th>\n",
       "    </tr>\n",
       "  </thead>\n",
       "  <tbody>\n",
       "    <tr>\n",
       "      <th>count</th>\n",
       "      <td>4.421225e+06</td>\n",
       "      <td>4.421225e+06</td>\n",
       "      <td>4.421225e+06</td>\n",
       "      <td>4.421225e+06</td>\n",
       "      <td>4.421225e+06</td>\n",
       "      <td>4.421225e+06</td>\n",
       "      <td>4.421225e+06</td>\n",
       "      <td>4.421225e+06</td>\n",
       "      <td>4.421225e+06</td>\n",
       "      <td>4.421225e+06</td>\n",
       "      <td>...</td>\n",
       "      <td>4.421225e+06</td>\n",
       "      <td>4.421225e+06</td>\n",
       "      <td>4.421225e+06</td>\n",
       "      <td>4.421225e+06</td>\n",
       "      <td>4.421225e+06</td>\n",
       "      <td>4.421225e+06</td>\n",
       "      <td>4.421225e+06</td>\n",
       "      <td>4.421225e+06</td>\n",
       "      <td>4.421225e+06</td>\n",
       "      <td>4.421225e+06</td>\n",
       "    </tr>\n",
       "    <tr>\n",
       "      <th>mean</th>\n",
       "      <td>6.829809e+00</td>\n",
       "      <td>1.348486e+07</td>\n",
       "      <td>1.317279e+03</td>\n",
       "      <td>9.032019e+00</td>\n",
       "      <td>4.322647e+04</td>\n",
       "      <td>5.308441e+03</td>\n",
       "      <td>3.523108e+02</td>\n",
       "      <td>3.027489e+00</td>\n",
       "      <td>7.494004e+01</td>\n",
       "      <td>1.348823e+02</td>\n",
       "      <td>...</td>\n",
       "      <td>2.345111e+01</td>\n",
       "      <td>2.626456e+05</td>\n",
       "      <td>4.294756e+04</td>\n",
       "      <td>3.143304e+05</td>\n",
       "      <td>2.343136e+05</td>\n",
       "      <td>6.255310e+06</td>\n",
       "      <td>5.250396e+05</td>\n",
       "      <td>6.745044e+06</td>\n",
       "      <td>5.832921e+06</td>\n",
       "      <td>8.887261e+07</td>\n",
       "    </tr>\n",
       "    <tr>\n",
       "      <th>std</th>\n",
       "      <td>2.925192e+00</td>\n",
       "      <td>3.186556e+07</td>\n",
       "      <td>1.285885e+04</td>\n",
       "      <td>1.475699e+02</td>\n",
       "      <td>4.127837e+05</td>\n",
       "      <td>2.096153e+05</td>\n",
       "      <td>9.663643e+02</td>\n",
       "      <td>1.142646e+01</td>\n",
       "      <td>2.966168e+02</td>\n",
       "      <td>3.105760e+02</td>\n",
       "      <td>...</td>\n",
       "      <td>7.316558e+00</td>\n",
       "      <td>1.249041e+06</td>\n",
       "      <td>4.446937e+05</td>\n",
       "      <td>1.502476e+06</td>\n",
       "      <td>1.163832e+06</td>\n",
       "      <td>1.834202e+07</td>\n",
       "      <td>3.794879e+06</td>\n",
       "      <td>1.922393e+07</td>\n",
       "      <td>1.808058e+07</td>\n",
       "      <td>1.150385e+09</td>\n",
       "    </tr>\n",
       "    <tr>\n",
       "      <th>min</th>\n",
       "      <td>0.000000e+00</td>\n",
       "      <td>1.000000e+00</td>\n",
       "      <td>0.000000e+00</td>\n",
       "      <td>0.000000e+00</td>\n",
       "      <td>0.000000e+00</td>\n",
       "      <td>0.000000e+00</td>\n",
       "      <td>0.000000e+00</td>\n",
       "      <td>0.000000e+00</td>\n",
       "      <td>0.000000e+00</td>\n",
       "      <td>0.000000e+00</td>\n",
       "      <td>...</td>\n",
       "      <td>0.000000e+00</td>\n",
       "      <td>0.000000e+00</td>\n",
       "      <td>0.000000e+00</td>\n",
       "      <td>0.000000e+00</td>\n",
       "      <td>0.000000e+00</td>\n",
       "      <td>0.000000e+00</td>\n",
       "      <td>0.000000e+00</td>\n",
       "      <td>0.000000e+00</td>\n",
       "      <td>0.000000e+00</td>\n",
       "      <td>0.000000e+00</td>\n",
       "    </tr>\n",
       "    <tr>\n",
       "      <th>25%</th>\n",
       "      <td>6.000000e+00</td>\n",
       "      <td>4.772800e+04</td>\n",
       "      <td>5.000000e+00</td>\n",
       "      <td>5.000000e+00</td>\n",
       "      <td>2.750000e+02</td>\n",
       "      <td>9.350000e+02</td>\n",
       "      <td>2.300000e+02</td>\n",
       "      <td>0.000000e+00</td>\n",
       "      <td>5.000000e+01</td>\n",
       "      <td>8.621920e+01</td>\n",
       "      <td>...</td>\n",
       "      <td>2.000000e+01</td>\n",
       "      <td>0.000000e+00</td>\n",
       "      <td>0.000000e+00</td>\n",
       "      <td>0.000000e+00</td>\n",
       "      <td>0.000000e+00</td>\n",
       "      <td>0.000000e+00</td>\n",
       "      <td>0.000000e+00</td>\n",
       "      <td>0.000000e+00</td>\n",
       "      <td>0.000000e+00</td>\n",
       "      <td>3.231200e+04</td>\n",
       "    </tr>\n",
       "    <tr>\n",
       "      <th>50%</th>\n",
       "      <td>6.000000e+00</td>\n",
       "      <td>1.507520e+05</td>\n",
       "      <td>5.000000e+00</td>\n",
       "      <td>5.000000e+00</td>\n",
       "      <td>3.330000e+02</td>\n",
       "      <td>9.350000e+02</td>\n",
       "      <td>3.230000e+02</td>\n",
       "      <td>0.000000e+00</td>\n",
       "      <td>6.320000e+01</td>\n",
       "      <td>1.404374e+02</td>\n",
       "      <td>...</td>\n",
       "      <td>2.000000e+01</td>\n",
       "      <td>0.000000e+00</td>\n",
       "      <td>0.000000e+00</td>\n",
       "      <td>0.000000e+00</td>\n",
       "      <td>0.000000e+00</td>\n",
       "      <td>0.000000e+00</td>\n",
       "      <td>0.000000e+00</td>\n",
       "      <td>0.000000e+00</td>\n",
       "      <td>0.000000e+00</td>\n",
       "      <td>1.485820e+05</td>\n",
       "    </tr>\n",
       "    <tr>\n",
       "      <th>75%</th>\n",
       "      <td>6.000000e+00</td>\n",
       "      <td>2.355084e+06</td>\n",
       "      <td>6.000000e+00</td>\n",
       "      <td>5.000000e+00</td>\n",
       "      <td>4.690000e+02</td>\n",
       "      <td>9.640000e+02</td>\n",
       "      <td>3.700000e+02</td>\n",
       "      <td>0.000000e+00</td>\n",
       "      <td>7.460000e+01</td>\n",
       "      <td>1.609969e+02</td>\n",
       "      <td>...</td>\n",
       "      <td>3.200000e+01</td>\n",
       "      <td>0.000000e+00</td>\n",
       "      <td>0.000000e+00</td>\n",
       "      <td>0.000000e+00</td>\n",
       "      <td>0.000000e+00</td>\n",
       "      <td>0.000000e+00</td>\n",
       "      <td>0.000000e+00</td>\n",
       "      <td>0.000000e+00</td>\n",
       "      <td>0.000000e+00</td>\n",
       "      <td>2.486828e+06</td>\n",
       "    </tr>\n",
       "    <tr>\n",
       "      <th>max</th>\n",
       "      <td>1.700000e+01</td>\n",
       "      <td>1.200000e+08</td>\n",
       "      <td>3.096290e+05</td>\n",
       "      <td>1.202670e+05</td>\n",
       "      <td>9.908128e+06</td>\n",
       "      <td>1.560270e+08</td>\n",
       "      <td>6.496900e+04</td>\n",
       "      <td>1.460000e+03</td>\n",
       "      <td>3.135814e+04</td>\n",
       "      <td>2.541239e+04</td>\n",
       "      <td>...</td>\n",
       "      <td>4.800000e+01</td>\n",
       "      <td>1.137935e+08</td>\n",
       "      <td>7.554688e+07</td>\n",
       "      <td>1.137935e+08</td>\n",
       "      <td>1.137935e+08</td>\n",
       "      <td>1.199895e+08</td>\n",
       "      <td>7.522330e+07</td>\n",
       "      <td>1.199895e+08</td>\n",
       "      <td>1.199895e+08</td>\n",
       "      <td>4.562846e+10</td>\n",
       "    </tr>\n",
       "  </tbody>\n",
       "</table>\n",
       "<p>8 rows × 79 columns</p>\n",
       "</div>"
      ],
      "text/plain": [
       "           Protocol  Flow Duration  Total Fwd Packet  Total Bwd packets  \\\n",
       "count  4.421225e+06   4.421225e+06      4.421225e+06       4.421225e+06   \n",
       "mean   6.829809e+00   1.348486e+07      1.317279e+03       9.032019e+00   \n",
       "std    2.925192e+00   3.186556e+07      1.285885e+04       1.475699e+02   \n",
       "min    0.000000e+00   1.000000e+00      0.000000e+00       0.000000e+00   \n",
       "25%    6.000000e+00   4.772800e+04      5.000000e+00       5.000000e+00   \n",
       "50%    6.000000e+00   1.507520e+05      5.000000e+00       5.000000e+00   \n",
       "75%    6.000000e+00   2.355084e+06      6.000000e+00       5.000000e+00   \n",
       "max    1.700000e+01   1.200000e+08      3.096290e+05       1.202670e+05   \n",
       "\n",
       "       Total Length of Fwd Packet  Total Length of Bwd Packet  \\\n",
       "count                4.421225e+06                4.421225e+06   \n",
       "mean                 4.322647e+04                5.308441e+03   \n",
       "std                  4.127837e+05                2.096153e+05   \n",
       "min                  0.000000e+00                0.000000e+00   \n",
       "25%                  2.750000e+02                9.350000e+02   \n",
       "50%                  3.330000e+02                9.350000e+02   \n",
       "75%                  4.690000e+02                9.640000e+02   \n",
       "max                  9.908128e+06                1.560270e+08   \n",
       "\n",
       "       Fwd Packet Length Max  Fwd Packet Length Min  Fwd Packet Length Mean  \\\n",
       "count           4.421225e+06           4.421225e+06            4.421225e+06   \n",
       "mean            3.523108e+02           3.027489e+00            7.494004e+01   \n",
       "std             9.663643e+02           1.142646e+01            2.966168e+02   \n",
       "min             0.000000e+00           0.000000e+00            0.000000e+00   \n",
       "25%             2.300000e+02           0.000000e+00            5.000000e+01   \n",
       "50%             3.230000e+02           0.000000e+00            6.320000e+01   \n",
       "75%             3.700000e+02           0.000000e+00            7.460000e+01   \n",
       "max             6.496900e+04           1.460000e+03            3.135814e+04   \n",
       "\n",
       "       Fwd Packet Length Std  ...  Fwd Seg Size Min   Active Mean  \\\n",
       "count           4.421225e+06  ...      4.421225e+06  4.421225e+06   \n",
       "mean            1.348823e+02  ...      2.345111e+01  2.626456e+05   \n",
       "std             3.105760e+02  ...      7.316558e+00  1.249041e+06   \n",
       "min             0.000000e+00  ...      0.000000e+00  0.000000e+00   \n",
       "25%             8.621920e+01  ...      2.000000e+01  0.000000e+00   \n",
       "50%             1.404374e+02  ...      2.000000e+01  0.000000e+00   \n",
       "75%             1.609969e+02  ...      3.200000e+01  0.000000e+00   \n",
       "max             2.541239e+04  ...      4.800000e+01  1.137935e+08   \n",
       "\n",
       "         Active Std    Active Max    Active Min     Idle Mean      Idle Std  \\\n",
       "count  4.421225e+06  4.421225e+06  4.421225e+06  4.421225e+06  4.421225e+06   \n",
       "mean   4.294756e+04  3.143304e+05  2.343136e+05  6.255310e+06  5.250396e+05   \n",
       "std    4.446937e+05  1.502476e+06  1.163832e+06  1.834202e+07  3.794879e+06   \n",
       "min    0.000000e+00  0.000000e+00  0.000000e+00  0.000000e+00  0.000000e+00   \n",
       "25%    0.000000e+00  0.000000e+00  0.000000e+00  0.000000e+00  0.000000e+00   \n",
       "50%    0.000000e+00  0.000000e+00  0.000000e+00  0.000000e+00  0.000000e+00   \n",
       "75%    0.000000e+00  0.000000e+00  0.000000e+00  0.000000e+00  0.000000e+00   \n",
       "max    7.554688e+07  1.137935e+08  1.137935e+08  1.199895e+08  7.522330e+07   \n",
       "\n",
       "           Idle Max      Idle Min  Total TCP Flow Time  \n",
       "count  4.421225e+06  4.421225e+06         4.421225e+06  \n",
       "mean   6.745044e+06  5.832921e+06         8.887261e+07  \n",
       "std    1.922393e+07  1.808058e+07         1.150385e+09  \n",
       "min    0.000000e+00  0.000000e+00         0.000000e+00  \n",
       "25%    0.000000e+00  0.000000e+00         3.231200e+04  \n",
       "50%    0.000000e+00  0.000000e+00         1.485820e+05  \n",
       "75%    0.000000e+00  0.000000e+00         2.486828e+06  \n",
       "max    1.199895e+08  1.199895e+08         4.562846e+10  \n",
       "\n",
       "[8 rows x 79 columns]"
      ]
     },
     "execution_count": 24,
     "metadata": {},
     "output_type": "execute_result"
    }
   ],
   "source": [
    "balanced_df.describe()"
   ]
  },
  {
   "cell_type": "code",
   "execution_count": 25,
   "metadata": {
    "tags": []
   },
   "outputs": [
    {
     "name": "stdout",
     "output_type": "stream",
     "text": [
      "Total number of missing (NaN or null) values in the dataset: 0\n",
      "\n",
      "There are no missing (NaN or null) values in the dataset.\n"
     ]
    }
   ],
   "source": [
    "# checking missing values\n",
    "#Checking if there are any NaN or null values in the entire DataFrame\n",
    "total_missing_values = balanced_df.isna().sum().sum()\n",
    "print(f\"Total number of missing (NaN or null) values in the dataset: {total_missing_values}\\n\")\n",
    "\n",
    "# the count of missing values for each column\n",
    "missing_values_per_column = balanced_df.isna().sum()\n",
    "\n",
    "#  columns that have missing values along with their respective counts\n",
    "columns_with_missing_values = missing_values_per_column[missing_values_per_column > 0]\n",
    "\n",
    "if columns_with_missing_values.empty:\n",
    "    print(\"There are no missing (NaN or null) values in the dataset.\")\n",
    "else:\n",
    "    print(\"Columns with missing (NaN or null) values and their respective counts:\")\n",
    "    print(columns_with_missing_values)"
   ]
  },
  {
   "cell_type": "markdown",
   "metadata": {},
   "source": [
    "## Checking possible duplicates in the dataset"
   ]
  },
  {
   "cell_type": "code",
   "execution_count": 26,
   "metadata": {
    "tags": []
   },
   "outputs": [
    {
     "name": "stdout",
     "output_type": "stream",
     "text": [
      "\n",
      "Number of Duplicate Rows in Resampled Data: 11\n"
     ]
    }
   ],
   "source": [
    "# Check for duplicate rows\n",
    "duplicate_rows = balanced_df.duplicated().sum()\n",
    "print(f\"\\nNumber of Duplicate Rows in Resampled Data: {duplicate_rows}\")"
   ]
  },
  {
   "cell_type": "code",
   "execution_count": 27,
   "metadata": {
    "tags": []
   },
   "outputs": [],
   "source": [
    "# removing duplicates\n",
    "balanced_df_no_duplicates = balanced_df.drop_duplicates()"
   ]
  },
  {
   "cell_type": "code",
   "execution_count": 28,
   "metadata": {
    "tags": []
   },
   "outputs": [
    {
     "data": {
      "text/plain": [
       "(4421214, 80)"
      ]
     },
     "execution_count": 28,
     "metadata": {},
     "output_type": "execute_result"
    }
   ],
   "source": [
    "balanced_df_no_duplicates.shape"
   ]
  },
  {
   "cell_type": "code",
   "execution_count": 29,
   "metadata": {
    "tags": []
   },
   "outputs": [
    {
     "data": {
      "text/plain": [
       "Benign                      1500000\n",
       "DoS Hulk                    1442528\n",
       "DDoS-HOIC                    865834\n",
       "DDoS-LOIC-HTTP               231462\n",
       "Botnet Ares                  114337\n",
       "SSH-BruteForce                75358\n",
       "DDoS-LOIC-UDP                 50000\n",
       "DoS GoldenEye                 50000\n",
       "DoS Slowloris                 49989\n",
       "Web Attack - XSS              20894\n",
       "Web Attack - Brute Force      20812\n",
       "Name: Label, dtype: int64"
      ]
     },
     "execution_count": 29,
     "metadata": {},
     "output_type": "execute_result"
    }
   ],
   "source": [
    "balanced_df_no_duplicates['Label'].value_counts()"
   ]
  },
  {
   "cell_type": "markdown",
   "metadata": {},
   "source": [
    "# High-level EDA on the new Training dataset"
   ]
  },
  {
   "cell_type": "code",
   "execution_count": null,
   "metadata": {
    "tags": []
   },
   "outputs": [],
   "source": [
    "# Exporting balanced training CSV to s3\n",
    "balanced_df_no_duplicates.to_csv(f'{data_output_path}/balanced_training_nodup.csv', index=False)"
   ]
  },
  {
   "cell_type": "markdown",
   "metadata": {},
   "source": [
    "## Summary Statistics by Class"
   ]
  },
  {
   "cell_type": "code",
   "execution_count": 31,
   "metadata": {
    "tags": []
   },
   "outputs": [
    {
     "name": "stdout",
     "output_type": "stream",
     "text": [
      "\n",
      "Summary Statistics by Class:\n",
      "Label                            Benign  Botnet Ares   DDoS-HOIC  \\\n",
      "Protocol            count  1.500000e+06     114337.0   865834.00   \n",
      "                    mean   8.079181e+00          6.0        6.00   \n",
      "                    std    4.346739e+00          0.0        0.00   \n",
      "                    min    0.000000e+00          6.0        6.00   \n",
      "                    25%    6.000000e+00          6.0        6.00   \n",
      "...                                 ...          ...         ...   \n",
      "Total TCP Flow Time min    0.000000e+00       7279.0     1444.00   \n",
      "                    25%    7.152000e+04      11175.0     5250.00   \n",
      "                    50%    2.371063e+06      11790.0    20248.00   \n",
      "                    75%    9.010932e+07      12418.0    43389.75   \n",
      "                    max    4.562846e+10   33757378.0  9425757.00   \n",
      "\n",
      "Label                      DDoS-LOIC-HTTP  DDoS-LOIC-UDP  DoS GoldenEye  \\\n",
      "Protocol            count    2.314620e+05        50000.0   5.000000e+04   \n",
      "                    mean     6.000000e+00           17.0   6.000000e+00   \n",
      "                    std      0.000000e+00            0.0   0.000000e+00   \n",
      "                    min      6.000000e+00           17.0   6.000000e+00   \n",
      "                    25%      6.000000e+00           17.0   6.000000e+00   \n",
      "...                                   ...            ...            ...   \n",
      "Total TCP Flow Time min      2.745000e+03            0.0   5.041988e+06   \n",
      "                    25%      1.149526e+07            0.0   6.997771e+06   \n",
      "                    50%      2.218580e+07            0.0   1.185885e+07   \n",
      "                    75%      3.305742e+07            0.0   2.807273e+07   \n",
      "                    max      2.212293e+09            0.0   1.435959e+09   \n",
      "\n",
      "Label                        DoS Hulk  DoS Slowloris  SSH-BruteForce  \\\n",
      "Protocol            count   1442528.0   4.998900e+04        75358.00   \n",
      "                    mean          6.0   6.000000e+00            6.00   \n",
      "                    std           0.0   0.000000e+00            0.00   \n",
      "                    min           6.0   6.000000e+00            6.00   \n",
      "                    25%           6.0   6.000000e+00            6.00   \n",
      "...                               ...            ...             ...   \n",
      "Total TCP Flow Time min        1357.0   8.310000e+02        98117.00   \n",
      "                    25%      107731.0   1.072620e+08       353137.00   \n",
      "                    50%      138839.0   1.082303e+08       375275.00   \n",
      "                    75%      182035.0   1.100017e+09       386731.75   \n",
      "                    max    16052485.0   2.481991e+09       566475.00   \n",
      "\n",
      "Label                      Web Attack - Brute Force  Web Attack - XSS  \n",
      "Protocol            count                  20812.00           20894.0  \n",
      "                    mean                       6.00               6.0  \n",
      "                    std                        0.00               0.0  \n",
      "                    min                        6.00               6.0  \n",
      "                    25%                        6.00               6.0  \n",
      "...                                             ...               ...  \n",
      "Total TCP Flow Time min                  8378901.00         5934694.0  \n",
      "                    25%                 56243325.75        56717755.5  \n",
      "                    50%                 56551280.50        56983091.0  \n",
      "                    75%                 56776165.50        57459326.5  \n",
      "                    max                 61933025.00        62403984.0  \n",
      "\n",
      "[632 rows x 11 columns]\n"
     ]
    }
   ],
   "source": [
    "# Summary statistics per class\n",
    "class_summary = balanced_df_no_duplicates.groupby('Label').describe().transpose()\n",
    "print(\"\\nSummary Statistics by Class:\")\n",
    "print(class_summary)"
   ]
  },
  {
   "cell_type": "code",
   "execution_count": null,
   "metadata": {},
   "outputs": [],
   "source": []
  }
 ],
 "metadata": {
  "kernelspec": {
   "display_name": "conda_python3",
   "language": "python",
   "name": "conda_python3"
  },
  "language_info": {
   "codemirror_mode": {
    "name": "ipython",
    "version": 3
   },
   "file_extension": ".py",
   "mimetype": "text/x-python",
   "name": "python",
   "nbconvert_exporter": "python",
   "pygments_lexer": "ipython3",
   "version": "3.10.16"
  }
 },
 "nbformat": 4,
 "nbformat_minor": 4
}
